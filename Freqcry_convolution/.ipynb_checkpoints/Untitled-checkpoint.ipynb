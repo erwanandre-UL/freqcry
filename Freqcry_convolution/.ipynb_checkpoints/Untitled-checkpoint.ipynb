{
 "cells": [
  {
   "cell_type": "code",
   "execution_count": 1,
   "id": "88b7030b",
   "metadata": {},
   "outputs": [],
   "source": [
    "#On importe les modules qui vont biens\n",
    "import numpy as np\n",
    "from  matplotlib import pyplot as plt\n",
    "from scipy.signal import fftconvolve as fftcon"
   ]
  },
  {
   "cell_type": "code",
   "execution_count": null,
   "id": "545ce037",
   "metadata": {},
   "outputs": [],
   "source": []
  }
 ],
 "metadata": {
  "kernelspec": {
   "display_name": "Python 3 (ipykernel)",
   "language": "python",
   "name": "python3"
  },
  "language_info": {
   "codemirror_mode": {
    "name": "ipython",
    "version": 3
   },
   "file_extension": ".py",
   "mimetype": "text/x-python",
   "name": "python",
   "nbconvert_exporter": "python",
   "pygments_lexer": "ipython3",
   "version": "3.9.7"
  }
 },
 "nbformat": 4,
 "nbformat_minor": 5
}
