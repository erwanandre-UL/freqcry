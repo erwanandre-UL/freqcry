{
 "cells": [
  {
   "cell_type": "code",
   "execution_count": 1,
   "id": "a4d6fad9",
   "metadata": {},
   "outputs": [],
   "source": [
    "#On importe les modules qui vont biens\n",
    "import numpy as np\n",
    "from  matplotlib import pyplot as plt\n",
    "from scipy.signal import fftconvolve as fftcon"
   ]
  },
  {
   "cell_type": "code",
   "execution_count": 2,
   "id": "d010b5e7",
   "metadata": {},
   "outputs": [],
   "source": [
    "#On definit les parametres du programme\n",
    "monfichier = \"./toto.out\"\n",
    "\n",
    "zone_freq = [0,4000]\n",
    "reso_spectre = 1\n",
    "\n",
    "psv_mu_ir = 0.5\n",
    "psv_mu_ram = 0.5\n",
    "psv_fwhm_ir = 15\n",
    "psv_fwhm_ram = 6"
   ]
  },
  {
   "cell_type": "code",
   "execution_count": 3,
   "id": "3e937ec7",
   "metadata": {},
   "outputs": [],
   "source": [
    "#On definit la fonction qui transforme le dirac en pseudovoigt\n",
    "def psvoigt(x,x0,Int,mu,fwhm):\n",
    "    return Int * ((2.0*mu/np.pi) * (fwhm/(4.0*(x-x0)**2+fwhm**2))   \n",
    "                  + (1-mu)*(np.sqrt(4.0*np.log(2.0))/(np.sqrt(np.pi*fwhm)))      \n",
    "                  * np.exp(-(4.0*np.log(2.0))/fwhm**2 * (x-x0)**2))"
   ]
  },
  {
   "cell_type": "code",
   "execution_count": 4,
   "id": "30e7644c",
   "metadata": {},
   "outputs": [],
   "source": [
    "#On lit les information dans le fichier de sortie de crystal\n",
    "f = open(monfichier,\"r\") \n",
    "content = f.readlines()"
   ]
  },
  {
   "cell_type": "code",
   "execution_count": 5,
   "id": "ce4fdee9",
   "metadata": {},
   "outputs": [],
   "source": [
    "#On cherche les donnees IR\n",
    "start_l=[]\n",
    "end_l  =[]\n",
    "\n",
    "for i,j in enumerate(content):\n",
    "    if ' CONVERSION FACTORS FOR FREQUENCIES:' in j:\n",
    "        start_l.append(i+8)\n",
    "\n",
    "#Pour trouver la fin de la liste de freq j'ai du cherche une ligne vide precedee d'une ligne avec ) et I ou A        \n",
    "    if (j == '\\n' and '(  ' in content[i-1]  and ('I' or 'A') in content[i-1]) :\n",
    "        end_l.append(i)\n",
    "        \n",
    "length_l = end_l[0] - start_l[0]\n",
    "\n",
    "\n",
    "#On lit les donnes dans le fichier en suivant le formatage (colonnes de taille fixe)\n",
    "\n",
    "Data = np.loadtxt(fname=monfichier,skiprows=start_l[0], max_rows=length_l, dtype=object, delimiter=\"none\")\n",
    "\n",
    "freq_IR = []\n",
    "IntIR = []\n",
    "\n",
    "for ligne in Data :\n",
    "    freq_IR.append(ligne[24:35])\n",
    "    IntIR.append(ligne[59:67])\n",
    "\n",
    "IR = [freq_IR,IntIR]\n",
    "IR = np.array(IR, dtype=np.float32)\n",
    "IR = IR.T"
   ]
  },
  {
   "cell_type": "code",
   "execution_count": 6,
   "id": "eaf1b32d",
   "metadata": {},
   "outputs": [],
   "source": [
    "#On cherche les donnees Raman si on en trouve pas on laisse le flag found_raman à 0\n",
    "#ce qui permettra de skipper les calculs plus tard\n",
    "start_l=[]\n",
    "end_l  =[]\n",
    "found_raman = 0\n",
    "\n",
    "for i,j in enumerate(content):\n",
    "    if 'POLYCRYSTALLINE ISOTROPIC INTENSITIES (ARBITRARY UNITS)' in j:\n",
    "        found_raman = 1\n",
    "        start_l.append(i+4)\n",
    "    \n",
    "    if 'SINGLE CRYSTAL DIRECTIONAL INTENSITIES (ARBITRARY UNITS)' in j:\n",
    "        end_l.append(i-1)\n",
    "        \n",
    "if found_raman == 1 :\n",
    "    length_l = end_l[0] - start_l[0]\n",
    "    Data = np.loadtxt(fname=monfichier,skiprows=start_l[0], max_rows=length_l, dtype=object)\n",
    "    freq_Ram = np.array(Data[:,2:3], dtype=np.float32)\n",
    "    Intram = np.array(Data[:,5:8], dtype=np.float32)\n",
    "    \n",
    "    Raman = np.concatenate((freq_Ram,Intram), axis=1)"
   ]
  },
  {
   "cell_type": "code",
   "execution_count": 7,
   "id": "a8031cdf",
   "metadata": {},
   "outputs": [],
   "source": [
    "#On genere les x pour les spectres\n",
    "x_spectre=np.linspace(zone_freq[0],zone_freq[1],int((zone_freq[1] - zone_freq[0])/reso_spectre))"
   ]
  },
  {
   "cell_type": "code",
   "execution_count": 8,
   "id": "ac1015d3",
   "metadata": {},
   "outputs": [],
   "source": [
    "#On dimensionne les fichiers de sortie\n",
    "spectre_ir = np.array(np.zeros((len(x_spectre),4),dtype=np.float32))\n",
    "if found_raman == 1 : spectre_raman = np.array(np.zeros((len(x_spectre),4),dtype=np.float32))"
   ]
  },
  {
   "cell_type": "code",
   "execution_count": 9,
   "id": "b2fdfeb9",
   "metadata": {},
   "outputs": [],
   "source": [
    "#On trace la pseudovoigt centrée sur la zone (on va la convoluer avec des diracs pour avoir la forme des pics)\n",
    "#On le fait pour l'IR et pour le Raman\n",
    "Int_psv_ir = np.zeros(len(x_spectre))\n",
    "if found_raman == 1 : Int_psv_ram = np.zeros(len(x_spectre))\n",
    "\n",
    "for i, freq in enumerate(x_spectre) :\n",
    "    Int_psv_ir[i] = psvoigt(freq,(zone_freq[1] - zone_freq[0])/2,Int=1.,mu=psv_mu_ir,fwhm=psv_fwhm_ir)\n",
    "    if found_raman == 1 : Int_psv_ram[i] = psvoigt(freq,(zone_freq[1] - zone_freq[0])/2,Int=1.,mu=psv_mu_ram,fwhm=psv_fwhm_ram)"
   ]
  },
  {
   "cell_type": "code",
   "execution_count": 10,
   "id": "1b97d00e",
   "metadata": {},
   "outputs": [
    {
     "data": {
      "image/png": "[encoded data removed]",
      "text/plain": [
       "<Figure size 432x288 with 1 Axes>"
      ]
     },
     "metadata": {
      "needs_background": "light"
     },
     "output_type": "display_data"
    }
   ],
   "source": [
    "#Je trace le spectre pour verifier que tout va bien\n",
    "Spectre_psv_ir = np.column_stack((x_spectre,Int_psv_ir))\n",
    "if found_raman == 1 : Spectre_psv_ram = np.column_stack((x_spectre,Int_psv_ram))\n",
    "\n",
    "plt.plot(Spectre_psv_ir[:,0],Spectre_psv_ir[:,1])\n",
    "if found_raman == 1 : plt.plot(Spectre_psv_ram[:,0],Spectre_psv_ram[:,1])\n",
    "plt.show()"
   ]
  },
  {
   "cell_type": "code",
   "execution_count": 11,
   "id": "49aca807",
   "metadata": {},
   "outputs": [],
   "source": [
    "#On cree le tableau qui contient les intensites des diracs\n",
    "Int_dir_ir = np.zeros(len(x_spectre))\n",
    "if found_raman == 1 : Int_dir_ram = np.zeros((len(x_spectre),3))\n",
    "\n",
    "#On initialise les variables pour le remplissage du tableau\n",
    "seuil = abs((x_spectre[1] - x_spectre[0])/2)\n",
    "Ram_freq = 0\n",
    "IR_freq = 0"
   ]
  },
  {
   "cell_type": "code",
   "execution_count": 12,
   "id": "d005b75d",
   "metadata": {},
   "outputs": [],
   "source": [
    "#On remplit les tableaux : on fait defiler les frequences et on somme les intensites des modes IR ou Raman lorsque\n",
    "#la difference entre le frequence en cours et le mode est inferieur a un seuil\n",
    "#(pour arrondir le dirac a l'abscisse la plus proche du spectre)\n",
    "#La boucle while sert a sommer les intensite des modes degeneres\n",
    "\n",
    "if found_raman == 1 :\n",
    "    for i, freq in enumerate(x_spectre) :\n",
    "        while abs(freq - Raman[Ram_freq,0]) <= seuil :\n",
    "            if Ram_freq <= (len(Raman) - 1) :\n",
    "                Int_dir_ram[i,0:3] = Int_dir_ram[i,0:3] + Raman[Ram_freq,1:4]\n",
    "                if Ram_freq < (len(Raman) - 1) :\n",
    "                    Ram_freq += 1\n",
    "                else : break\n",
    "            else : break\n",
    "    \n",
    "        if IR[IR_freq,0] > 0 :\n",
    "            while abs(freq - IR[IR_freq,0]) <= seuil :\n",
    "                if IR_freq <= (len(IR) - 1) :\n",
    "                    Int_dir_ir[i] = Int_dir_ir[i] + IR[IR_freq,1]\n",
    "                    if IR_freq < (len(IR) - 1) :\n",
    "                        IR_freq += 1\n",
    "                    else : break\n",
    "                else : break\n",
    "        else : \n",
    "            IR_freq += 1\n",
    "\n",
    "else :\n",
    "    for i, freq in enumerate(x_spectre) :\n",
    "        if IR[IR_freq,0] > 0 :\n",
    "            while abs(freq - IR[IR_freq,0]) <= seuil :\n",
    "                if IR_freq <= (len(IR) - 1) :\n",
    "                    Int_dir_ir[i] = Int_dir_ir[i] + IR[IR_freq,1]\n",
    "                    if IR_freq < (len(IR) - 1) :\n",
    "                        IR_freq += 1\n",
    "                    else : break\n",
    "                else : break\n",
    "        else : \n",
    "            IR_freq += 1"
   ]
  },
  {
   "cell_type": "code",
   "execution_count": 13,
   "id": "edd99806",
   "metadata": {},
   "outputs": [
    {
     "data": {
      "image/png": "[encoded data removed]",
      "text/plain": [
       "<Figure size 432x288 with 1 Axes>"
      ]
     },
     "metadata": {
      "needs_background": "light"
     },
     "output_type": "display_data"
    }
   ],
   "source": [
    "#Je trace le spectre IR pour verifier que tout va bien\n",
    "Spectre_dir_ir = np.column_stack((x_spectre,Int_dir_ir))\n",
    "\n",
    "plt.plot(Spectre_dir_ir[:,0],Spectre_dir_ir[:,1])\n",
    "plt.show()"
   ]
  },
  {
   "cell_type": "code",
   "execution_count": 14,
   "id": "65595acd",
   "metadata": {},
   "outputs": [],
   "source": [
    "#Je trace le spectre raman pour verifier que tout va bien\n",
    "if found_raman == 1 :\n",
    "    Spectre_dir_ram = np.column_stack((x_spectre,Int_dir_ram))\n",
    "    \n",
    "    plt.plot(Spectre_dir_ram[:,0],Spectre_dir_ram[:,1:4])\n",
    "    plt.show()"
   ]
  },
  {
   "cell_type": "code",
   "execution_count": 15,
   "id": "d0547b15",
   "metadata": {},
   "outputs": [],
   "source": [
    "#Je convolue le spectre de dirac avec celui de pseudovoigt \n",
    "Int_conv_ir = np.zeros(len(x_spectre))\n",
    "if found_raman == 1 : Int_conv_ram = np.zeros((len(x_spectre),3))\n",
    "\n",
    "Int_conv_ir = fftcon(Int_psv_ir,Int_dir_ir,mode=\"same\")\n",
    "\n",
    "if found_raman == 1 :\n",
    "    for i in range(3) :\n",
    "        Int_conv_ram[:,i] = fftcon(Int_psv_ram,Int_dir_ram[:,i],mode=\"same\")\n",
    "\n",
    "\n",
    "Spectre_ir = np.column_stack((x_spectre,Int_conv_ir))\n",
    "if found_raman == 1 : Spectre_ram = np.column_stack((x_spectre,Int_conv_ram))"
   ]
  },
  {
   "cell_type": "code",
   "execution_count": 16,
   "id": "24c8667e",
   "metadata": {},
   "outputs": [
    {
     "data": {
      "image/png": "[encoded data removed]",
      "text/plain": [
       "<Figure size 432x288 with 1 Axes>"
      ]
     },
     "metadata": {
      "needs_background": "light"
     },
     "output_type": "display_data"
    }
   ],
   "source": [
    "#Je trace le spectre IR pour verifier que tout va bien\n",
    "plt.plot(Spectre_ir[:,0],Spectre_ir[:,1])\n",
    "plt.show()"
   ]
  },
  {
   "cell_type": "code",
   "execution_count": 17,
   "id": "80a07ebe",
   "metadata": {},
   "outputs": [],
   "source": [
    "#Je trace le spectre pour verifier que tout va bien\n",
    "if found_raman == 1 :\n",
    "    plt.plot(Spectre_ram[:,0],Spectre_ram[:,1:4])\n",
    "    plt.show()"
   ]
  },
  {
   "cell_type": "code",
   "execution_count": 18,
   "id": "e82d0068",
   "metadata": {},
   "outputs": [],
   "source": [
    "#La ligne suivante est pour ecrire le fichier qui liste les intensites Raman\n",
    "np.savetxt(fname='IR.txt',X = Spectre_ir)\n",
    "if found_raman == 1 : np.savetxt(fname='Raman.txt',X = Spectre_ram)\n",
    "f.close()"
   ]
  }
 ],
 "metadata": {
  "kernelspec": {
   "display_name": "Python 3 (ipykernel)",
   "language": "python",
   "name": "python3"
  },
  "language_info": {
   "codemirror_mode": {
    "name": "ipython",
    "version": 3
   },
   "file_extension": ".py",
   "mimetype": "text/x-python",
   "name": "python",
   "nbconvert_exporter": "python",
   "pygments_lexer": "ipython3",
   "version": "3.9.7"
  }
 },
 "nbformat": 4,
 "nbformat_minor": 5
}
